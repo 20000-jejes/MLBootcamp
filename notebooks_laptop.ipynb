{
  "metadata": {
    "language_info": {
      "codemirror_mode": {
        "name": "python",
        "version": 3
      },
      "file_extension": ".py",
      "mimetype": "text/x-python",
      "name": "python",
      "nbconvert_exporter": "python",
      "pygments_lexer": "ipython3",
      "version": "3.8"
    },
    "kernelspec": {
      "name": "python",
      "display_name": "Python (Pyodide)",
      "language": "python"
    }
  },
  "nbformat_minor": 4,
  "nbformat": 4,
  "cells": [
    {
      "cell_type": "code",
      "source": "import pandas as pd\nimport numpy as np",
      "metadata": {
        "trusted": true
      },
      "execution_count": 3,
      "outputs": []
    },
    {
      "cell_type": "code",
      "source": "df = pd.read_csv('laptops 2.csv')\ndf",
      "metadata": {
        "trusted": true
      },
      "execution_count": 4,
      "outputs": [
        {
          "execution_count": 4,
          "output_type": "execute_result",
          "data": {
            "text/plain": "                                                 Laptop       Status   Brand  \\\n0     ASUS ExpertBook B1 B1502CBA-EJ0436X Intel Core...          New    Asus   \n1     Alurin Go Start Intel Celeron N4020/8GB/256GB ...          New  Alurin   \n2     ASUS ExpertBook B1 B1502CBA-EJ0424X Intel Core...          New    Asus   \n3     MSI Katana GF66 12UC-082XES Intel Core i7-1270...          New     MSI   \n4     HP 15S-FQ5085NS Intel Core i5-1235U/16GB/512GB...          New      HP   \n...                                                 ...          ...     ...   \n2155  Razer Blade 17 FHD 360Hz Intel Core i7-11800H/...  Refurbished   Razer   \n2156  Razer Blade 17 FHD 360Hz Intel Core i7-11800H/...  Refurbished   Razer   \n2157  Razer Blade 17 FHD 360Hz Intel Core i7-11800H/...  Refurbished   Razer   \n2158  Razer Book 13 Intel Evo Core i7-1165G7/16GB/1T...  Refurbished   Razer   \n2159  Razer Book FHD+ Intel Evo Core i7-1165G7/16GB/...  Refurbished   Razer   \n\n           Model                CPU  RAM  Storage Storage type       GPU  \\\n0     ExpertBook      Intel Core i5    8      512          SSD       NaN   \n1             Go      Intel Celeron    8      256          SSD       NaN   \n2     ExpertBook      Intel Core i3    8      256          SSD       NaN   \n3         Katana      Intel Core i7   16     1000          SSD  RTX 3050   \n4            15S      Intel Core i5   16      512          SSD       NaN   \n...          ...                ...  ...      ...          ...       ...   \n2155       Blade      Intel Core i7   16     1000          SSD  RTX 3060   \n2156       Blade      Intel Core i7   16     1000          SSD  RTX 3070   \n2157       Blade      Intel Core i7   32     1000          SSD  RTX 3080   \n2158        Book  Intel Evo Core i7   16     1000          SSD       NaN   \n2159        Book  Intel Evo Core i7   16      256          SSD       NaN   \n\n      Screen Touch  Final Price  \n0       15.6    No      1009.00  \n1       15.6    No       299.00  \n2       15.6    No       789.00  \n3       15.6    No      1199.00  \n4       15.6    No       669.01  \n...      ...   ...          ...  \n2155    17.3    No      2699.99  \n2156    17.3    No      2899.99  \n2157    17.3    No      3399.99  \n2158    13.4   Yes      1899.99  \n2159    13.4   Yes      1699.99  \n\n[2160 rows x 12 columns]",
            "text/html": "<div>\n<style scoped>\n    .dataframe tbody tr th:only-of-type {\n        vertical-align: middle;\n    }\n\n    .dataframe tbody tr th {\n        vertical-align: top;\n    }\n\n    .dataframe thead th {\n        text-align: right;\n    }\n</style>\n<table border=\"1\" class=\"dataframe\">\n  <thead>\n    <tr style=\"text-align: right;\">\n      <th></th>\n      <th>Laptop</th>\n      <th>Status</th>\n      <th>Brand</th>\n      <th>Model</th>\n      <th>CPU</th>\n      <th>RAM</th>\n      <th>Storage</th>\n      <th>Storage type</th>\n      <th>GPU</th>\n      <th>Screen</th>\n      <th>Touch</th>\n      <th>Final Price</th>\n    </tr>\n  </thead>\n  <tbody>\n    <tr>\n      <th>0</th>\n      <td>ASUS ExpertBook B1 B1502CBA-EJ0436X Intel Core...</td>\n      <td>New</td>\n      <td>Asus</td>\n      <td>ExpertBook</td>\n      <td>Intel Core i5</td>\n      <td>8</td>\n      <td>512</td>\n      <td>SSD</td>\n      <td>NaN</td>\n      <td>15.6</td>\n      <td>No</td>\n      <td>1009.00</td>\n    </tr>\n    <tr>\n      <th>1</th>\n      <td>Alurin Go Start Intel Celeron N4020/8GB/256GB ...</td>\n      <td>New</td>\n      <td>Alurin</td>\n      <td>Go</td>\n      <td>Intel Celeron</td>\n      <td>8</td>\n      <td>256</td>\n      <td>SSD</td>\n      <td>NaN</td>\n      <td>15.6</td>\n      <td>No</td>\n      <td>299.00</td>\n    </tr>\n    <tr>\n      <th>2</th>\n      <td>ASUS ExpertBook B1 B1502CBA-EJ0424X Intel Core...</td>\n      <td>New</td>\n      <td>Asus</td>\n      <td>ExpertBook</td>\n      <td>Intel Core i3</td>\n      <td>8</td>\n      <td>256</td>\n      <td>SSD</td>\n      <td>NaN</td>\n      <td>15.6</td>\n      <td>No</td>\n      <td>789.00</td>\n    </tr>\n    <tr>\n      <th>3</th>\n      <td>MSI Katana GF66 12UC-082XES Intel Core i7-1270...</td>\n      <td>New</td>\n      <td>MSI</td>\n      <td>Katana</td>\n      <td>Intel Core i7</td>\n      <td>16</td>\n      <td>1000</td>\n      <td>SSD</td>\n      <td>RTX 3050</td>\n      <td>15.6</td>\n      <td>No</td>\n      <td>1199.00</td>\n    </tr>\n    <tr>\n      <th>4</th>\n      <td>HP 15S-FQ5085NS Intel Core i5-1235U/16GB/512GB...</td>\n      <td>New</td>\n      <td>HP</td>\n      <td>15S</td>\n      <td>Intel Core i5</td>\n      <td>16</td>\n      <td>512</td>\n      <td>SSD</td>\n      <td>NaN</td>\n      <td>15.6</td>\n      <td>No</td>\n      <td>669.01</td>\n    </tr>\n    <tr>\n      <th>...</th>\n      <td>...</td>\n      <td>...</td>\n      <td>...</td>\n      <td>...</td>\n      <td>...</td>\n      <td>...</td>\n      <td>...</td>\n      <td>...</td>\n      <td>...</td>\n      <td>...</td>\n      <td>...</td>\n      <td>...</td>\n    </tr>\n    <tr>\n      <th>2155</th>\n      <td>Razer Blade 17 FHD 360Hz Intel Core i7-11800H/...</td>\n      <td>Refurbished</td>\n      <td>Razer</td>\n      <td>Blade</td>\n      <td>Intel Core i7</td>\n      <td>16</td>\n      <td>1000</td>\n      <td>SSD</td>\n      <td>RTX 3060</td>\n      <td>17.3</td>\n      <td>No</td>\n      <td>2699.99</td>\n    </tr>\n    <tr>\n      <th>2156</th>\n      <td>Razer Blade 17 FHD 360Hz Intel Core i7-11800H/...</td>\n      <td>Refurbished</td>\n      <td>Razer</td>\n      <td>Blade</td>\n      <td>Intel Core i7</td>\n      <td>16</td>\n      <td>1000</td>\n      <td>SSD</td>\n      <td>RTX 3070</td>\n      <td>17.3</td>\n      <td>No</td>\n      <td>2899.99</td>\n    </tr>\n    <tr>\n      <th>2157</th>\n      <td>Razer Blade 17 FHD 360Hz Intel Core i7-11800H/...</td>\n      <td>Refurbished</td>\n      <td>Razer</td>\n      <td>Blade</td>\n      <td>Intel Core i7</td>\n      <td>32</td>\n      <td>1000</td>\n      <td>SSD</td>\n      <td>RTX 3080</td>\n      <td>17.3</td>\n      <td>No</td>\n      <td>3399.99</td>\n    </tr>\n    <tr>\n      <th>2158</th>\n      <td>Razer Book 13 Intel Evo Core i7-1165G7/16GB/1T...</td>\n      <td>Refurbished</td>\n      <td>Razer</td>\n      <td>Book</td>\n      <td>Intel Evo Core i7</td>\n      <td>16</td>\n      <td>1000</td>\n      <td>SSD</td>\n      <td>NaN</td>\n      <td>13.4</td>\n      <td>Yes</td>\n      <td>1899.99</td>\n    </tr>\n    <tr>\n      <th>2159</th>\n      <td>Razer Book FHD+ Intel Evo Core i7-1165G7/16GB/...</td>\n      <td>Refurbished</td>\n      <td>Razer</td>\n      <td>Book</td>\n      <td>Intel Evo Core i7</td>\n      <td>16</td>\n      <td>256</td>\n      <td>SSD</td>\n      <td>NaN</td>\n      <td>13.4</td>\n      <td>Yes</td>\n      <td>1699.99</td>\n    </tr>\n  </tbody>\n</table>\n<p>2160 rows × 12 columns</p>\n</div>"
          },
          "metadata": {}
        }
      ]
    },
    {
      "cell_type": "code",
      "source": "# EXPLORING DATA\ndf.columns\n",
      "metadata": {
        "trusted": true
      },
      "execution_count": 5,
      "outputs": [
        {
          "execution_count": 5,
          "output_type": "execute_result",
          "data": {
            "text/plain": "Index(['Laptop', 'Status', 'Brand', 'Model', 'CPU', 'RAM', 'Storage',\n       'Storage type', 'GPU', 'Screen', 'Touch', 'Final Price'],\n      dtype='object')"
          },
          "metadata": {}
        }
      ]
    },
    {
      "cell_type": "code",
      "source": "df.Brand.value_counts()",
      "metadata": {
        "trusted": true
      },
      "execution_count": 6,
      "outputs": [
        {
          "execution_count": 6,
          "output_type": "execute_result",
          "data": {
            "text/plain": "Asus                415\nHP                  368\nLenovo              366\nMSI                 308\nAcer                137\nApple               116\nDell                 84\nMicrosoft            77\nGigabyte             48\nRazer                37\nMedion               32\nLG                   32\nAlurin               29\nPcCom                24\nSamsung              22\nDynabook Toshiba     19\nVant                 11\nPrimux                8\nDeep Gaming           8\nInnjoo                6\nThomson               4\nPrixton               3\nMillenium             2\nDenver                1\nJetwing               1\nRealme                1\nToshiba               1\nName: Brand, dtype: int64"
          },
          "metadata": {}
        }
      ]
    },
    {
      "cell_type": "code",
      "source": "df.Status.value_counts()",
      "metadata": {
        "trusted": true
      },
      "execution_count": 7,
      "outputs": [
        {
          "execution_count": 7,
          "output_type": "execute_result",
          "data": {
            "text/plain": "New            1498\nRefurbished     662\nName: Status, dtype: int64"
          },
          "metadata": {}
        }
      ]
    },
    {
      "cell_type": "code",
      "source": "df['Storage type'].value_counts()",
      "metadata": {
        "trusted": true
      },
      "execution_count": 8,
      "outputs": [
        {
          "execution_count": 8,
          "output_type": "execute_result",
          "data": {
            "text/plain": "SSD     2062\neMMC      56\nName: Storage type, dtype: int64"
          },
          "metadata": {}
        }
      ]
    },
    {
      "cell_type": "code",
      "source": "df.isnull().sum()",
      "metadata": {
        "trusted": true
      },
      "execution_count": 9,
      "outputs": [
        {
          "execution_count": 9,
          "output_type": "execute_result",
          "data": {
            "text/plain": "Laptop             0\nStatus             0\nBrand              0\nModel              0\nCPU                0\nRAM                0\nStorage            0\nStorage type      42\nGPU             1371\nScreen             4\nTouch              0\nFinal Price        0\ndtype: int64"
          },
          "metadata": {}
        }
      ]
    },
    {
      "cell_type": "code",
      "source": "from sklearn.feature_extraction import DictVectorizer\nfrom sklearn.model_selection import train_test_split ",
      "metadata": {
        "trusted": true
      },
      "execution_count": 10,
      "outputs": []
    },
    {
      "cell_type": "code",
      "source": "df = df.dropna()\ndf['Final Price']=df['Final Price'].astype(int)\nmeanp = df['Final Price'].mean()\nminp = df['Final Price'].min()\nmaxp = df['Final Price'].max()\nprint('mean price: ',meanp, '\\nmin price: ', minp, '\\nmax price: ',maxp)",
      "metadata": {
        "trusted": true
      },
      "execution_count": 11,
      "outputs": [
        {
          "name": "stderr",
          "text": "<ipython-input-11-306260004d7b>:2: SettingWithCopyWarning: \nA value is trying to be set on a copy of a slice from a DataFrame.\nTry using .loc[row_indexer,col_indexer] = value instead\n\nSee the caveats in the documentation: https://pandas.pydata.org/pandas-docs/stable/user_guide/indexing.html#returning-a-view-versus-a-copy\n  df['Final Price']=df['Final Price'].astype(int)\n",
          "output_type": "stream"
        },
        {
          "name": "stdout",
          "text": "mean price:  1960.1882202304737 \nmin price:  477 \nmax price:  7150\n",
          "output_type": "stream"
        }
      ]
    },
    {
      "cell_type": "code",
      "source": "from sklearn.linear_model import LogisticRegression\nfrom sklearn import preprocessing, utils\nlabel = preprocessing.LabelEncoder()\ndf.Screen = label.fit_transform(df.Screen)",
      "metadata": {
        "trusted": true
      },
      "execution_count": 12,
      "outputs": [
        {
          "name": "stderr",
          "text": "<ipython-input-12-2782ac4211c1>:4: SettingWithCopyWarning: \nA value is trying to be set on a copy of a slice from a DataFrame.\nTry using .loc[row_indexer,col_indexer] = value instead\n\nSee the caveats in the documentation: https://pandas.pydata.org/pandas-docs/stable/user_guide/indexing.html#returning-a-view-versus-a-copy\n  df.Screen = label.fit_transform(df.Screen)\n",
          "output_type": "stream"
        }
      ]
    },
    {
      "cell_type": "code",
      "source": "df_train, df_test = train_test_split(df, test_size = 0.2, random_state=1)\ndf_train, df_val = train_test_split(df, test_size = 0.2, random_state=1)\nindependent = ['Brand','Status','Model','CPU','RAM','Storage','Storage type','GPU','Screen','Touch']\ny_train = df_train['Final Price']",
      "metadata": {
        "trusted": true
      },
      "execution_count": 13,
      "outputs": []
    },
    {
      "cell_type": "code",
      "source": "# visualising data features\nimport matplotlib.pyplot as plt\nprice_hist = np.histogram(df_train['Final Price'])\nplt.hist(price_hist, bins=4)",
      "metadata": {
        "trusted": true
      },
      "execution_count": 14,
      "outputs": [
        {
          "execution_count": 14,
          "output_type": "execute_result",
          "data": {
            "text/plain": "(array([[10.,  0.,  0.,  0.],\n        [ 2.,  3.,  3.,  3.]]),\n array([1.00000e+00, 1.78825e+03, 3.57550e+03, 5.36275e+03, 7.15000e+03]),\n <a list of 2 BarContainer objects>)"
          },
          "metadata": {}
        },
        {
          "output_type": "display_data",
          "data": {
            "text/plain": "<Figure size 640x480 with 1 Axes>",
            "image/png": "[encoded data removed]"
          },
          "metadata": {}
        }
      ]
    },
    {
      "cell_type": "code",
      "source": "dict_train = df_train[independent].to_dict(orient='records')\ndv = DictVectorizer(sparse=False)\ndv.fit(dict_train)\nx_train = dv.transform(dict_train)\nx_train[0]\ndv.get_feature_names_out()",
      "metadata": {
        "trusted": true
      },
      "execution_count": 35,
      "outputs": [
        {
          "execution_count": 35,
          "output_type": "execute_result",
          "data": {
            "text/plain": "array(['Brand=Acer', 'Brand=Apple', 'Brand=Asus', 'Brand=Deep Gaming',\n       'Brand=Dell', 'Brand=Gigabyte', 'Brand=HP', 'Brand=LG',\n       'Brand=Lenovo', 'Brand=MSI', 'Brand=Medion', 'Brand=Microsoft',\n       'Brand=Millenium', 'Brand=PcCom', 'Brand=Razer', 'Brand=Samsung',\n       'CPU=AMD Radeon 9', 'CPU=AMD Ryzen 5', 'CPU=AMD Ryzen 7',\n       'CPU=AMD Ryzen 9', 'CPU=Intel Core i5', 'CPU=Intel Core i7',\n       'CPU=Intel Core i9', 'CPU=Intel Evo Core i7',\n       'CPU=Intel Evo Core i9', 'GPU=610 M', 'GPU=A 370M', 'GPU=A 730M',\n       'GPU=GTX 1050', 'GPU=GTX 1070', 'GPU=GTX 1650', 'GPU=GTX 1660',\n       'GPU=MX 130', 'GPU=MX 330', 'GPU=MX 450', 'GPU=MX 550',\n       'GPU=P 500', 'GPU=RTX 2050', 'GPU=RTX 2060', 'GPU=RTX 2070',\n       'GPU=RTX 2080', 'GPU=RTX 3000', 'GPU=RTX 3050', 'GPU=RTX 3060',\n       'GPU=RTX 3070', 'GPU=RTX 3080', 'GPU=RTX 4050', 'GPU=RTX 4060',\n       'GPU=RTX 4070', 'GPU=RTX 4080', 'GPU=RTX 4090', 'GPU=RTX A1000',\n       'GPU=RTX A2000', 'GPU=RTX A3000', 'GPU=RTX A5500', 'GPU=RX 6500M',\n       'GPU=RX 6700M', 'GPU=RX 6800S', 'GPU=RX 7600S',\n       'GPU=Radeon Pro 5300M', 'GPU=Radeon Pro 5500M',\n       'GPU=Radeon Pro RX 560X', 'GPU=Radeon RX 6600M', 'GPU=T 1000',\n       'GPU=T 1200', 'GPU=T 2000', 'GPU=T 500', 'GPU=T 550', 'GPU=T 600',\n       'Model=14w', 'Model=15U70N', 'Model=470', 'Model=A7',\n       'Model=AURELION', 'Model=AZIR', 'Model=Aero', 'Model=Alpha',\n       'Model=Aorus', 'Model=Aspire', 'Model=Beast', 'Model=Blade',\n       'Model=Bravo', 'Model=ConceptD', 'Model=Creator',\n       'Model=Crosshair', 'Model=Cyborg', 'Model=Delta', 'Model=Deputy',\n       'Model=Envy', 'Model=Erazer', 'Model=G5', 'Model=G7', 'Model=GL65',\n       'Model=GL75', 'Model=Galaxy Book', 'Model=Gram', 'Model=IdeaPad',\n       'Model=Katana', 'Model=LOQ', 'Model=Legion', 'Model=Leopard',\n       'Model=MacBook Pro', 'Model=Modern', 'Model=Nitro', 'Model=Nubian',\n       'Model=Omen', 'Model=Pavilion', 'Model=Precision',\n       'Model=Predator', 'Model=Prestige', 'Model=ProArt', 'Model=Pulse',\n       'Model=ROG', 'Model=Raider', 'Model=Revolt', 'Model=Stealth',\n       'Model=Summit', 'Model=Surface Laptop', 'Model=TUF', 'Model=Thin',\n       'Model=ThinkBook', 'Model=ThinkPad', 'Model=Titan', 'Model=Ultra',\n       'Model=Vector', 'Model=Victus', 'Model=VivoBook', 'Model=XPS',\n       'Model=Yoga', 'Model=Zbook', 'Model=ZenBook', 'RAM', 'Screen',\n       'Status=New', 'Status=Refurbished', 'Storage', 'Storage type=SSD',\n       'Touch=No', 'Touch=Yes'], dtype=object)"
          },
          "metadata": {}
        }
      ]
    },
    {
      "cell_type": "code",
      "source": "model = LogisticRegression(solver='liblinear',random_state = 1)",
      "metadata": {
        "trusted": true
      },
      "execution_count": 16,
      "outputs": []
    },
    {
      "cell_type": "code",
      "source": "df.dtypes",
      "metadata": {
        "trusted": true
      },
      "execution_count": 17,
      "outputs": [
        {
          "execution_count": 17,
          "output_type": "execute_result",
          "data": {
            "text/plain": "Laptop          object\nStatus          object\nBrand           object\nModel           object\nCPU             object\nRAM              int64\nStorage          int64\nStorage type    object\nGPU             object\nScreen           int32\nTouch           object\nFinal Price      int32\ndtype: object"
          },
          "metadata": {}
        }
      ]
    },
    {
      "cell_type": "code",
      "source": "# model.fit(x_train, y_train)",
      "metadata": {
        "trusted": true
      },
      "execution_count": 18,
      "outputs": []
    },
    {
      "cell_type": "code",
      "source": "model.fit(x_train, y_train)",
      "metadata": {
        "trusted": true
      },
      "execution_count": 19,
      "outputs": [
        {
          "execution_count": 19,
          "output_type": "execute_result",
          "data": {
            "text/plain": "LogisticRegression(random_state=1, solver='liblinear')",
            "text/html": "<style>#sk-container-id-1 {color: black;background-color: white;}#sk-container-id-1 pre{padding: 0;}#sk-container-id-1 div.sk-toggleable {background-color: white;}#sk-container-id-1 label.sk-toggleable__label {cursor: pointer;display: block;width: 100%;margin-bottom: 0;padding: 0.3em;box-sizing: border-box;text-align: center;}#sk-container-id-1 label.sk-toggleable__label-arrow:before {content: \"▸\";float: left;margin-right: 0.25em;color: #696969;}#sk-container-id-1 label.sk-toggleable__label-arrow:hover:before {color: black;}#sk-container-id-1 div.sk-estimator:hover label.sk-toggleable__label-arrow:before {color: black;}#sk-container-id-1 div.sk-toggleable__content {max-height: 0;max-width: 0;overflow: hidden;text-align: left;background-color: #f0f8ff;}#sk-container-id-1 div.sk-toggleable__content pre {margin: 0.2em;color: black;border-radius: 0.25em;background-color: #f0f8ff;}#sk-container-id-1 input.sk-toggleable__control:checked~div.sk-toggleable__content {max-height: 200px;max-width: 100%;overflow: auto;}#sk-container-id-1 input.sk-toggleable__control:checked~label.sk-toggleable__label-arrow:before {content: \"▾\";}#sk-container-id-1 div.sk-estimator input.sk-toggleable__control:checked~label.sk-toggleable__label {background-color: #d4ebff;}#sk-container-id-1 div.sk-label input.sk-toggleable__control:checked~label.sk-toggleable__label {background-color: #d4ebff;}#sk-container-id-1 input.sk-hidden--visually {border: 0;clip: rect(1px 1px 1px 1px);clip: rect(1px, 1px, 1px, 1px);height: 1px;margin: -1px;overflow: hidden;padding: 0;position: absolute;width: 1px;}#sk-container-id-1 div.sk-estimator {font-family: monospace;background-color: #f0f8ff;border: 1px dotted black;border-radius: 0.25em;box-sizing: border-box;margin-bottom: 0.5em;}#sk-container-id-1 div.sk-estimator:hover {background-color: #d4ebff;}#sk-container-id-1 div.sk-parallel-item::after {content: \"\";width: 100%;border-bottom: 1px solid gray;flex-grow: 1;}#sk-container-id-1 div.sk-label:hover label.sk-toggleable__label {background-color: #d4ebff;}#sk-container-id-1 div.sk-serial::before {content: \"\";position: absolute;border-left: 1px solid gray;box-sizing: border-box;top: 0;bottom: 0;left: 50%;z-index: 0;}#sk-container-id-1 div.sk-serial {display: flex;flex-direction: column;align-items: center;background-color: white;padding-right: 0.2em;padding-left: 0.2em;position: relative;}#sk-container-id-1 div.sk-item {position: relative;z-index: 1;}#sk-container-id-1 div.sk-parallel {display: flex;align-items: stretch;justify-content: center;background-color: white;position: relative;}#sk-container-id-1 div.sk-item::before, #sk-container-id-1 div.sk-parallel-item::before {content: \"\";position: absolute;border-left: 1px solid gray;box-sizing: border-box;top: 0;bottom: 0;left: 50%;z-index: -1;}#sk-container-id-1 div.sk-parallel-item {display: flex;flex-direction: column;z-index: 1;position: relative;background-color: white;}#sk-container-id-1 div.sk-parallel-item:first-child::after {align-self: flex-end;width: 50%;}#sk-container-id-1 div.sk-parallel-item:last-child::after {align-self: flex-start;width: 50%;}#sk-container-id-1 div.sk-parallel-item:only-child::after {width: 0;}#sk-container-id-1 div.sk-dashed-wrapped {border: 1px dashed gray;margin: 0 0.4em 0.5em 0.4em;box-sizing: border-box;padding-bottom: 0.4em;background-color: white;}#sk-container-id-1 div.sk-label label {font-family: monospace;font-weight: bold;display: inline-block;line-height: 1.2em;}#sk-container-id-1 div.sk-label-container {text-align: center;}#sk-container-id-1 div.sk-container {/* jupyter's `normalize.less` sets `[hidden] { display: none; }` but bootstrap.min.css set `[hidden] { display: none !important; }` so we also need the `!important` here to be able to override the default hidden behavior on the sphinx rendered scikit-learn.org. See: https://github.com/scikit-learn/scikit-learn/issues/21755 */display: inline-block !important;position: relative;}#sk-container-id-1 div.sk-text-repr-fallback {display: none;}</style><div id=\"sk-container-id-1\" class=\"sk-top-container\"><div class=\"sk-text-repr-fallback\"><pre>LogisticRegression(random_state=1, solver=&#x27;liblinear&#x27;)</pre><b>In a Jupyter environment, please rerun this cell to show the HTML representation or trust the notebook. <br />On GitHub, the HTML representation is unable to render, please try loading this page with nbviewer.org.</b></div><div class=\"sk-container\" hidden><div class=\"sk-item\"><div class=\"sk-estimator sk-toggleable\"><input class=\"sk-toggleable__control sk-hidden--visually\" id=\"sk-estimator-id-1\" type=\"checkbox\" checked><label for=\"sk-estimator-id-1\" class=\"sk-toggleable__label sk-toggleable__label-arrow\">LogisticRegression</label><div class=\"sk-toggleable__content\"><pre>LogisticRegression(random_state=1, solver=&#x27;liblinear&#x27;)</pre></div></div></div></div></div>"
          },
          "metadata": {}
        }
      ]
    },
    {
      "cell_type": "code",
      "source": "model.coef_[0]\nlen(model.coef_[0])",
      "metadata": {
        "trusted": true
      },
      "execution_count": 33,
      "outputs": [
        {
          "execution_count": 33,
          "output_type": "execute_result",
          "data": {
            "text/plain": "139"
          },
          "metadata": {}
        }
      ]
    },
    {
      "cell_type": "code",
      "source": "model.intercept_[0]",
      "metadata": {
        "trusted": true
      },
      "execution_count": 21,
      "outputs": [
        {
          "execution_count": 21,
          "output_type": "execute_result",
          "data": {
            "text/plain": "0.06268619251309533"
          },
          "metadata": {}
        }
      ]
    },
    {
      "cell_type": "code",
      "source": "# data Validation\ny_val = df_val['Final Price']",
      "metadata": {
        "trusted": true
      },
      "execution_count": 26,
      "outputs": []
    },
    {
      "cell_type": "code",
      "source": "dict_val = df_val[independent].to_dict(orient='records')\nx_val = dv.transform(dict_val)\nlen(x_val)",
      "metadata": {
        "trusted": true
      },
      "execution_count": 36,
      "outputs": [
        {
          "execution_count": 36,
          "output_type": "execute_result",
          "data": {
            "text/plain": "157"
          },
          "metadata": {}
        }
      ]
    },
    {
      "cell_type": "code",
      "source": "y_pred = model.predict_proba(x_val)\ny_pred[:,1]",
      "metadata": {
        "trusted": true
      },
      "execution_count": 39,
      "outputs": [
        {
          "execution_count": 39,
          "output_type": "execute_result",
          "data": {
            "text/plain": "array([2.60603255e-07, 7.27258238e-08, 5.99119895e-05, 1.02675238e-08,\n       2.24778663e-09, 8.74359705e-05, 5.93534257e-04, 9.70863854e-05,\n       1.14018908e-04, 1.22194807e-04, 1.73920696e-08, 2.15282895e-07,\n       2.86907679e-07, 6.70675255e-05, 5.53258959e-05, 5.28274497e-05,\n       8.11159427e-16, 1.45548050e-05, 1.35605383e-04, 1.49565155e-04,\n       8.23906388e-05, 2.42653509e-04, 8.78204905e-05, 8.32686654e-05,\n       1.71126552e-07, 1.15615994e-03, 2.88711257e-08, 1.05442793e-16,\n       8.45312465e-04, 1.07475529e-09, 7.26740669e-06, 1.58097176e-04,\n       1.24956775e-04, 1.02604896e-15, 1.20771366e-04, 5.72383524e-09,\n       1.47648047e-04, 8.24199607e-05, 2.86901047e-07, 9.16164163e-05,\n       1.58442739e-08, 1.47116582e-04, 8.85892118e-08, 4.46925170e-04,\n       4.01796164e-05, 7.41226424e-04, 1.16644608e-05, 6.55318909e-05,\n       2.36436914e-04, 4.82452398e-08, 7.77254878e-05, 5.02392737e-05,\n       6.08481102e-05, 4.45567923e-04, 1.20004110e-08, 1.84073902e-08,\n       1.02412748e-16, 2.98949301e-08, 3.03260199e-08, 1.55622543e-04,\n       7.48246488e-05, 1.32966708e-04, 8.56557041e-03, 1.95729125e-08,\n       4.72369847e-08, 4.58993494e-05, 1.45463051e-04, 1.38992556e-04,\n       9.60043005e-07, 8.37640785e-06, 1.57430214e-04, 7.00558262e-05,\n       4.92967228e-05, 3.64290477e-04, 1.72813240e-08, 1.29469829e-04,\n       4.86414418e-05, 7.60899913e-08, 4.99783430e-05, 2.81462879e-03,\n       7.70823679e-10, 7.05257988e-04, 2.57417410e-08, 3.75422036e-16,\n       5.19053006e-10, 3.28744483e-08, 6.70061787e-05, 1.83325981e-08,\n       3.09216233e-04, 1.05355899e-08, 3.59677005e-17, 8.59021698e-05,\n       3.83312922e-05, 7.90946445e-05, 7.00362533e-05, 3.01924195e-04,\n       2.36436914e-04, 3.25676773e-09, 1.21557359e-04, 1.56692975e-04,\n       5.02856120e-09, 3.01721129e-09, 1.38953324e-05, 1.18443749e-05,\n       2.70037910e-04, 3.42968475e-04, 1.72753028e-08, 1.07081599e-03,\n       1.49565155e-04, 2.18099726e-08, 1.28984285e-04, 8.49946843e-09,\n       5.54148433e-03, 1.13425774e-08, 5.57359649e-05, 2.45552850e-07,\n       5.99119895e-05, 1.97939179e-15, 1.57749207e-04, 2.70037910e-04,\n       6.72965038e-05, 8.41142390e-05, 5.29766102e-08, 2.11577080e-08,\n       1.20710280e-04, 2.21174536e-04, 7.90946445e-05, 2.38597448e-07,\n       1.71749659e-07, 1.32966708e-04, 2.10828794e-08, 3.33882578e-03,\n       1.55334919e-05, 6.66801541e-04, 6.60385329e-08, 7.57888237e-05,\n       5.59418925e-05, 4.80921005e-05, 1.94561891e-03, 1.67607438e-07,\n       1.85909464e-08, 1.20771366e-04, 2.88711257e-08, 1.44150427e-04,\n       1.19219258e-07, 7.18671893e-04, 1.43936070e-04, 4.93344810e-05,\n       5.82214059e-04, 6.32112478e-05, 2.92938901e-04, 5.34475409e-05,\n       2.74479532e-04, 3.22479749e-07, 1.45463051e-04, 2.80332077e-04,\n       3.14572584e-04])"
          },
          "metadata": {}
        }
      ]
    },
    {
      "cell_type": "code",
      "source": "coeff = dict(zip(dv.get_feature_names_out(), model.coef_[0].round(3)))\ncoeff",
      "metadata": {
        "trusted": true
      },
      "execution_count": 50,
      "outputs": [
        {
          "execution_count": 50,
          "output_type": "execute_result",
          "data": {
            "text/plain": "{'Brand=Acer': -0.043,\n 'Brand=Apple': -0.001,\n 'Brand=Asus': 0.588,\n 'Brand=Deep Gaming': -0.0,\n 'Brand=Dell': -0.02,\n 'Brand=Gigabyte': -0.029,\n 'Brand=HP': -0.172,\n 'Brand=LG': -0.001,\n 'Brand=Lenovo': -0.137,\n 'Brand=MSI': -0.075,\n 'Brand=Medion': -0.037,\n 'Brand=Microsoft': -0.0,\n 'Brand=Millenium': -0.001,\n 'Brand=PcCom': -0.004,\n 'Brand=Razer': -0.006,\n 'Brand=Samsung': -0.0,\n 'CPU=AMD Radeon 9': -0.0,\n 'CPU=AMD Ryzen 5': 0.533,\n 'CPU=AMD Ryzen 7': -0.09,\n 'CPU=AMD Ryzen 9': -0.007,\n 'CPU=Intel Core i5': -0.245,\n 'CPU=Intel Core i7': -0.12,\n 'CPU=Intel Core i9': -0.007,\n 'CPU=Intel Evo Core i7': -0.001,\n 'CPU=Intel Evo Core i9': -0.0,\n 'GPU=610 M': 0.754,\n 'GPU=A 370M': -0.0,\n 'GPU=A 730M': -0.0,\n 'GPU=GTX 1050': -0.011,\n 'GPU=GTX 1070': -0.0,\n 'GPU=GTX 1650': -0.13,\n 'GPU=GTX 1660': -0.04,\n 'GPU=MX 130': -0.014,\n 'GPU=MX 330': -0.06,\n 'GPU=MX 450': -0.001,\n 'GPU=MX 550': -0.019,\n 'GPU=P 500': -0.011,\n 'GPU=RTX 2050': -0.033,\n 'GPU=RTX 2060': -0.005,\n 'GPU=RTX 2070': -0.004,\n 'GPU=RTX 2080': -0.0,\n 'GPU=RTX 3000': -0.0,\n 'GPU=RTX 3050': -0.113,\n 'GPU=RTX 3060': -0.099,\n 'GPU=RTX 3070': -0.016,\n 'GPU=RTX 3080': -0.001,\n 'GPU=RTX 4050': -0.008,\n 'GPU=RTX 4060': -0.03,\n 'GPU=RTX 4070': -0.003,\n 'GPU=RTX 4080': -0.0,\n 'GPU=RTX 4090': -0.0,\n 'GPU=RTX A1000': -0.001,\n 'GPU=RTX A2000': -0.001,\n 'GPU=RTX A3000': -0.0,\n 'GPU=RTX A5500': -0.0,\n 'GPU=RX 6500M': -0.001,\n 'GPU=RX 6700M': -0.0,\n 'GPU=RX 6800S': -0.0,\n 'GPU=RX 7600S': -0.002,\n 'GPU=Radeon Pro 5300M': -0.0,\n 'GPU=Radeon Pro 5500M': -0.064,\n 'GPU=Radeon Pro RX 560X': -0.001,\n 'GPU=Radeon RX 6600M': -0.0,\n 'GPU=T 1000': -0.0,\n 'GPU=T 1200': -0.003,\n 'GPU=T 2000': -0.0,\n 'GPU=T 500': -0.019,\n 'GPU=T 550': -0.001,\n 'GPU=T 600': -0.001,\n 'Model=14w': -0.0,\n 'Model=15U70N': -0.0,\n 'Model=470': -0.0,\n 'Model=A7': -0.0,\n 'Model=AURELION': -0.0,\n 'Model=AZIR': -0.0,\n 'Model=Aero': -0.005,\n 'Model=Alpha': -0.0,\n 'Model=Aorus': -0.022,\n 'Model=Aspire': -0.018,\n 'Model=Beast': -0.0,\n 'Model=Blade': -0.006,\n 'Model=Bravo': -0.035,\n 'Model=ConceptD': -0.02,\n 'Model=Creator': -0.004,\n 'Model=Crosshair': -0.0,\n 'Model=Cyborg': -0.0,\n 'Model=Delta': -0.0,\n 'Model=Deputy': -0.036,\n 'Model=Envy': -0.001,\n 'Model=Erazer': -0.001,\n 'Model=G5': -0.001,\n 'Model=G7': -0.0,\n 'Model=GL65': -0.0,\n 'Model=GL75': -0.0,\n 'Model=Galaxy Book': -0.0,\n 'Model=Gram': -0.0,\n 'Model=IdeaPad': -0.086,\n 'Model=Katana': -0.018,\n 'Model=LOQ': -0.0,\n 'Model=Legion': -0.035,\n 'Model=Leopard': -0.003,\n 'Model=MacBook Pro': -0.001,\n 'Model=Modern': -0.001,\n 'Model=Nitro': -0.003,\n 'Model=Nubian': -0.0,\n 'Model=Omen': -0.005,\n 'Model=Pavilion': -0.035,\n 'Model=Precision': -0.019,\n 'Model=Predator': -0.002,\n 'Model=Prestige': -0.005,\n 'Model=ProArt': -0.0,\n 'Model=Pulse': -0.003,\n 'Model=ROG': -0.019,\n 'Model=Raider': -0.0,\n 'Model=Revolt': -0.004,\n 'Model=Stealth': -0.003,\n 'Model=Summit': -0.0,\n 'Model=Surface Laptop': -0.0,\n 'Model=TUF': -0.084,\n 'Model=Thin': -0.002,\n 'Model=ThinkBook': -0.001,\n 'Model=ThinkPad': -0.015,\n 'Model=Titan': -0.0,\n 'Model=Ultra': -0.0,\n 'Model=Vector': -0.0,\n 'Model=Victus': -0.129,\n 'Model=VivoBook': 0.69,\n 'Model=XPS': -0.001,\n 'Model=Yoga': -0.0,\n 'Model=Zbook': -0.001,\n 'Model=ZenBook': -0.0,\n 'RAM': -0.528,\n 'Screen': -0.05,\n 'Status=New': 0.173,\n 'Status=Refurbished': -0.111,\n 'Storage': 0.001,\n 'Storage type=SSD': 0.063,\n 'Touch=No': 0.07,\n 'Touch=Yes': -0.007}"
          },
          "metadata": {}
        }
      ]
    },
    {
      "cell_type": "code",
      "source": "x_test = df_test[independent]\ny_test = df_test['Final Price']\nx_customer = x_test.to_dict(orient = 'records')[0]\nx_customer = dv.transform([x_customer])\ny_customer_pred = model.predict(x_customer)[0]",
      "metadata": {
        "trusted": true
      },
      "execution_count": 97,
      "outputs": []
    },
    {
      "cell_type": "code",
      "source": "y_customer = y_test.head(1).values[0]",
      "metadata": {
        "trusted": true
      },
      "execution_count": 98,
      "outputs": []
    },
    {
      "cell_type": "code",
      "source": "diff = y_customer - y_customer_pred",
      "metadata": {
        "trusted": true
      },
      "execution_count": 99,
      "outputs": []
    },
    {
      "cell_type": "code",
      "source": "diff",
      "metadata": {
        "trusted": true
      },
      "execution_count": 100,
      "outputs": [
        {
          "execution_count": 100,
          "output_type": "execute_result",
          "data": {
            "text/plain": "360"
          },
          "metadata": {}
        }
      ]
    },
    {
      "cell_type": "code",
      "source": "",
      "metadata": {},
      "execution_count": null,
      "outputs": []
    }
  ]
}